{
 "cells": [
  {
   "cell_type": "code",
   "execution_count": 8,
   "metadata": {
    "collapsed": true
   },
   "outputs": [
    {
     "name": "stderr",
     "output_type": "stream",
     "text": [
      "┌ Info: Precompiling GLM [38e38edf-8417-5370-95a0-9cbb8c7f171a]\n",
      "└ @ Base loading.jl:1260\n"
     ]
    }
   ],
   "source": [
    "using DataFrames\n",
    "using CSV\n",
    "using XLSX\n",
    "using Statistics\n",
    "using Plots\n",
    "using Dates\n",
    "using GLM"
   ]
  },
  {
   "cell_type": "code",
   "execution_count": 2,
   "metadata": {
    "collapsed": true
   },
   "outputs": [
    {
     "data": {
      "text/plain": [
       "(Any[Any[6181, 12447, 39051, 17426, 6915, 13271, 40326, 18959, 54296, 38128  …  4538, 19518, 50339, 25245, 8747, 40400, 116571, 397820, 34991, 52829], Any[\"New York\", \"Los Angeles\", \"Houston\", \"Chicago\", \"San Antonio\", \"Philadelphia\", \"Phoenix\", \"Las Vegas\", \"San Diego\", \"Dallas\"  …  \"Elburn\", \"Mullica Hill\", \"Sea Isle City\", \"Indian Shores\", \"Eagle\", \"Port Bolivar\", \"Mi Wuk Village\", \"Long Beach Township\", \"Corolla\", \"La Vernia\"], Any[\"New York\", \"California\", \"Texas\", \"Illinois\", \"Texas\", \"Pennsylvania\", \"Arizona\", \"Nevada\", \"California\", \"Texas\"  …  \"Illinois\", \"New Jersey\", \"New Jersey\", \"Florida\", \"Colorado\", \"Texas\", \"California\", \"New Jersey\", \"North Carolina\", \"Texas\"], Any[1, 2, 3, 4, 5, 6, 7, 8, 9, 10  …  3757, 3758, 3759, 3760, 3761, 3762, 3763, 3764, 3765, 3766], Any[missing, 507600, 138200, 325300, 130800, 111700, 221000, 244600, 417800, 148000  …  missing, missing, missing, missing, missing, missing, missing, missing, missing, missing], Any[missing, 489300, 135200, 315800, 131200, 111600, 211100, 239800, 405300, 142200  …  missing, missing, missing, missing, missing, missing, missing, missing, missing, missing], Any[missing, 463200, 132100, 286700, 131200, 111100, 202200, 234800, 394700, 150900  …  missing, missing, missing, missing, missing, missing, missing, missing, missing, missing], Any[missing, 453100, 131000, 274900, 131600, 109400, 192900, 227300, 380800, 157300  …  missing, missing, missing, missing, missing, missing, missing, missing, missing, missing], Any[missing, 438500, 133400, 268600, 131700, 108400, 182400, 218200, 370800, 164300  …  missing, missing, missing, missing, missing, missing, missing, missing, missing, missing], Any[missing, 423300, 135300, 264500, 132400, 112000, 173100, 207000, 356500, 163600  …  missing, missing, missing, missing, missing, missing, missing, missing, missing, missing]  …  Any[560000, 702700, 209900, 276200, 196000, 157500, 228600, 266700, 594300, 294200  …  284200, 324400, 778400, 417600, 555000, 275400, 231700, 828700, 436100, 326400], Any[563000, 705300, 209500, 271800, 197200, 161400, 231000, 265900, 595900, 301600  …  283500, 345000, 718200, 425300, 584500, 278400, 235500, 845000, 522300, 299200], Any[571000, 711100, 207300, 267000, 198800, 163400, 231200, 268200, 595300, 302100  …  291400, 339300, 743800, 427400, 579000, 254300, 237700, 911000, 520900, 316300], Any[573200, 717300, 207300, 265400, 200600, 162700, 232700, 268600, 599700, 301300  …  300100, 341900, 763800, 422200, 586200, 273200, 217800, 946800, 479900, 329600], Any[570100, 714400, 207000, 265600, 201300, 160500, 236200, 270400, 599100, 309900  …  304700, 328300, 822500, 438200, 612600, 286200, 222200, 898500, 431500, 367100], Any[559200, 711500, 211700, 264600, 204200, 161600, 240100, 272100, 605300, 314600  …  296500, 357700, 785500, 502100, 576900, 278100, 207900, 837000, 477100, 361500], Any[568200, 717600, 212400, 264500, 204400, 170800, 244100, 274300, 612200, 317800  …  282000, 343700, 791700, 556100, 545700, 285500, 219000, 835300, 561300, 342000], Any[569400, 725600, 218500, 270500, 206200, 175200, 245700, 277600, 618500, 308200  …  276600, 336300, 777000, 557800, 564400, 267200, 210300, 819700, 564900, 350700], Any[564500, 738300, 219600, 282200, 206000, 182300, 250400, 278800, 617300, 321300  …  290900, 288100, 813700, 497800, 606400, 302900, 228800, 837800, 513500, 343000], Any[563100, 758900, 225200, 303400, 208700, 190300, 254300, 282200, missing, 314400  …  310000, 321200, 808900, 446000, 635100, 333700, 238200, 862500, 447000, missing]], [:RegionID, :RegionName, :StateName, :SizeRank, Symbol(\"2008-03\"), Symbol(\"2008-04\"), Symbol(\"2008-05\"), Symbol(\"2008-06\"), Symbol(\"2008-07\"), Symbol(\"2008-08\")  …  Symbol(\"2019-05\"), Symbol(\"2019-06\"), Symbol(\"2019-07\"), Symbol(\"2019-08\"), Symbol(\"2019-09\"), Symbol(\"2019-10\"), Symbol(\"2019-11\"), Symbol(\"2019-12\"), Symbol(\"2020-01\"), Symbol(\"2020-02\")])"
      ]
     },
     "execution_count": 2,
     "metadata": {},
     "output_type": "execute_result"
    }
   ],
   "source": [
    "prices = XLSX.readtable(\"data/zillow_data_download_april2020.xlsx\", \"Sales_median_price_city\", \"A:ER\")"
   ]
  },
  {
   "cell_type": "code",
   "execution_count": 3,
   "metadata": {
    "collapsed": true
   },
   "outputs": [
    {
     "data": {
      "text/plain": [
       "(Any[Any[6181, 12447, 39051, 17426, 6915, 13271, 40326, 18959, 54296, 38128  …  396952, 397236, 398030, 398104, 398357, 398712, 398716, 399081, 737789, 760882], Any[\"New York\", \"Los Angeles\", \"Houston\", \"Chicago\", \"San Antonio\", \"Philadelphia\", \"Phoenix\", \"Las Vegas\", \"San Diego\", \"Dallas\"  …  \"Barnard Plantation\", \"Windsor Place\", \"Stockbridge\", \"Mattamiscontis\", \"Chase Stream\", \"Bowdoin College Grant West\", \"Summerset\", \"Long Pond\", \"Hideout\", \"Ebeemee\"], Any[\"New York\", \"California\", \"Texas\", \"Illinois\", \"Texas\", \"Pennsylvania\", \"Arizona\", \"Nevada\", \"California\", \"Texas\"  …  \"Maine\", \"Missouri\", \"Wisconsin\", \"Maine\", \"Maine\", \"Maine\", \"South Dakota\", \"Maine\", \"Utah\", \"Maine\"], Any[1, 2, 3, 4, 5, 6, 7, 8, 9, 10  …  28750, 28751, 28752, 28753, 28754, 28755, 28756, 28757, 28758, 28759], Any[missing, 1446, 2926, 2910, 1479, 1609, 1310, 1618, 772, 1158  …  0, 0, 0, 0, 0, 0, 0, 0, 1, 0], Any[missing, 1705, 3121, 3022, 1529, 1795, 1519, 1856, 1057, 1232  …  0, 0, 0, 0, 0, 0, 0, 0, 0, 0], Any[missing, 1795, 3220, 2937, 1582, 1709, 1654, 1961, 1195, 1240  …  0, 0, 0, 0, 0, 0, 2, 0, 0, 0], Any[missing, 1890, 3405, 3224, 1761, 1914, 1743, 2022, 1115, 1236  …  0, 0, 0, 0, 0, 0, 0, 0, 0, 0], Any[missing, 2072, 3352, 3464, 1678, 1984, 1975, 2219, 1272, 1392  …  0, 0, 0, 0, 0, 1, 1, 0, 0, 0], Any[missing, 1876, 2962, 3371, 1468, 1739, 1809, 2248, 1171, 1138  …  0, 0, 0, 0, 0, 0, 0, 0, 0, 0]  …  Any[3473, 2651, 3894, 3702, 2384, 2682, 3898, 3284, 1542, 1407  …  0, 0, 0, 0, 0, 2, 3, 0, 0, 0], Any[3900, 2504, 3511, 3549, 2242, 2270, 3570, 3058, 1433, 1235  …  0, 0, 2, 0, 0, 2, 6, 0, 1, 0], Any[4493, 2675, 3687, 3622, 2300, 2479, 3616, 3235, 1529, 1423  …  0, 0, 0, 0, 0, 3, 10, 0, 1, 0], Any[4266, 2759, 3414, 3619, 2233, 2503, 3581, 3254, 1479, 1266  …  0, missing, 0, 0, 0, 3, 5, 0, 2, 0], Any[4183, 2334, 2803, 2938, 1788, 2184, 3199, 2821, 1307, 1143  …  0, missing, 0, 0, 1, 1, 4, 0, 1, 0], Any[4232, 2594, 2969, 2930, 1917, 2337, 3189, 3097, 1356, 1239  …  0, missing, 0, 0, 0, missing, 8, 0, 2, 0], Any[3869, 2272, 2699, 2176, 1520, 1931, 2867, 2702, 1179, 1117  …  0, missing, 0, 0, 0, missing, 8, 0, missing, 0], Any[3938, 2394, 3338, 2866, 1876, 2192, 2934, 2810, 1276, 1315  …  0, missing, 0, 0, 0, missing, 5, 0, missing, 0], Any[4306, 2006, 2407, 2240, 1460, 2381, 2226, 2512, 1020, 1056  …  0, missing, 0, 0, 0, missing, 1, 0, missing, 1], Any[4054, 1522, 2682, 2100, 1626, 1620, 2325, 2547, missing, 1292  …  missing, missing, missing, missing, missing, missing, 2, 0, missing, 0]], [:RegionID, :RegionName, :StateName, :SizeRank, Symbol(\"2008-03\"), Symbol(\"2008-04\"), Symbol(\"2008-05\"), Symbol(\"2008-06\"), Symbol(\"2008-07\"), Symbol(\"2008-08\")  …  Symbol(\"2019-05\"), Symbol(\"2019-06\"), Symbol(\"2019-07\"), Symbol(\"2019-08\"), Symbol(\"2019-09\"), Symbol(\"2019-10\"), Symbol(\"2019-11\"), Symbol(\"2019-12\"), Symbol(\"2020-01\"), Symbol(\"2020-02\")])"
      ]
     },
     "execution_count": 3,
     "metadata": {},
     "output_type": "execute_result"
    }
   ],
   "source": [
    "counts = XLSX.readtable(\"data/zillow_data_download_april2020.xlsx\", \"Sale_counts_city\", \"A:ER\")"
   ]
  },
  {
   "cell_type": "code",
   "execution_count": 4,
   "metadata": {
    "collapsed": true
   },
   "outputs": [
    {
     "data": {
      "text/plain": [
       "113-element Array{Int64,1}:\n",
       "   1\n",
       "   2\n",
       "   3\n",
       "   4\n",
       "  39\n",
       "  40\n",
       "  41\n",
       "  42\n",
       "  43\n",
       "  44\n",
       "  45\n",
       "  46\n",
       "  47\n",
       "   ⋮\n",
       " 136\n",
       " 137\n",
       " 138\n",
       " 139\n",
       " 140\n",
       " 141\n",
       " 142\n",
       " 143\n",
       " 144\n",
       " 145\n",
       " 146\n",
       " 147"
      ]
     },
     "execution_count": 4,
     "metadata": {},
     "output_type": "execute_result"
    }
   ],
   "source": [
    "#Columns we care about\n",
    "atr = 1:4 #regionID, city, state, size atributes\n",
    "years = 39:147 #2011-2020\n",
    "colIndex = [atr; years]"
   ]
  },
  {
   "cell_type": "code",
   "execution_count": 28,
   "metadata": {
    "collapsed": true
   },
   "outputs": [
    {
     "data": {
      "text/html": [
       "<table class=\"data-frame\"><thead><tr><th></th><th>RegionID</th><th>RegionName</th><th>StateName</th><th>SizeRank</th><th>2011-01</th><th>2011-02</th><th>2011-03</th></tr><tr><th></th><th>Any</th><th>Any</th><th>Any</th><th>Any</th><th>Any</th><th>Any</th><th>Any</th></tr></thead><tbody><p>1,625 rows × 113 columns (omitted printing of 106 columns)</p><tr><th>1</th><td>6181</td><td>New York</td><td>New York</td><td>1</td><td>460900</td><td>466500</td><td>467100</td></tr><tr><th>2</th><td>12447</td><td>Los Angeles</td><td>California</td><td>2</td><td>350300</td><td>352600</td><td>343800</td></tr><tr><th>3</th><td>39051</td><td>Houston</td><td>Texas</td><td>3</td><td>139800</td><td>137900</td><td>132900</td></tr><tr><th>4</th><td>17426</td><td>Chicago</td><td>Illinois</td><td>4</td><td>188000</td><td>190300</td><td>186800</td></tr><tr><th>5</th><td>6915</td><td>San Antonio</td><td>Texas</td><td>5</td><td>135900</td><td>131600</td><td>130600</td></tr><tr><th>6</th><td>13271</td><td>Philadelphia</td><td>Pennsylvania</td><td>6</td><td>106700</td><td>105600</td><td>109400</td></tr><tr><th>7</th><td>40326</td><td>Phoenix</td><td>Arizona</td><td>7</td><td>84200</td><td>82800</td><td>82400</td></tr><tr><th>8</th><td>18959</td><td>Las Vegas</td><td>Nevada</td><td>8</td><td>115700</td><td>113900</td><td>111200</td></tr><tr><th>9</th><td>54296</td><td>San Diego</td><td>California</td><td>9</td><td>344700</td><td>336100</td><td>331100</td></tr><tr><th>10</th><td>38128</td><td>Dallas</td><td>Texas</td><td>10</td><td>191800</td><td>184000</td><td>173600</td></tr><tr><th>11</th><td>10221</td><td>Austin</td><td>Texas</td><td>11</td><td>228400</td><td>221600</td><td>216200</td></tr><tr><th>12</th><td>33839</td><td>San Jose</td><td>California</td><td>12</td><td>443800</td><td>434600</td><td>424300</td></tr><tr><th>13</th><td>25290</td><td>Jacksonville</td><td>Florida</td><td>13</td><td>94600</td><td>92700</td><td>88300</td></tr><tr><th>14</th><td>20330</td><td>San Francisco</td><td>California</td><td>15</td><td>680100</td><td>655100</td><td>646200</td></tr><tr><th>15</th><td>24043</td><td>Charlotte</td><td>North Carolina</td><td>16</td><td>135300</td><td>131200</td><td>128800</td></tr><tr><th>16</th><td>18172</td><td>Fort Worth</td><td>Texas</td><td>17</td><td>118200</td><td>114800</td><td>111600</td></tr><tr><th>17</th><td>7481</td><td>Tucson</td><td>Arizona</td><td>18</td><td>125600</td><td>122900</td><td>119200</td></tr><tr><th>18</th><td>10920</td><td>Columbus</td><td>Ohio</td><td>19</td><td>88700</td><td>86000</td><td>79900</td></tr><tr><th>19</th><td>12455</td><td>Louisville</td><td>Kentucky</td><td>20</td><td>125700</td><td>124000</td><td>118400</td></tr><tr><th>20</th><td>13121</td><td>Orlando</td><td>Florida</td><td>21</td><td>81800</td><td>82500</td><td>85300</td></tr><tr><th>21</th><td>17933</td><td>El Paso</td><td>Texas</td><td>22</td><td>129500</td><td>128700</td><td>127100</td></tr><tr><th>22</th><td>11093</td><td>Denver</td><td>Colorado</td><td>23</td><td>200600</td><td>206800</td><td>201100</td></tr><tr><th>23</th><td>16037</td><td>Seattle</td><td>Washington</td><td>24</td><td>384700</td><td>385100</td><td>376200</td></tr><tr><th>24</th><td>32811</td><td>Memphis</td><td>Tennessee</td><td>25</td><td>61100</td><td>60600</td><td>58500</td></tr><tr><th>25</th><td>41568</td><td>Washington</td><td>District of Columbia</td><td>27</td><td>399900</td><td>384200</td><td>373700</td></tr><tr><th>26</th><td>13373</td><td>Portland</td><td>Oregon</td><td>28</td><td>265000</td><td>261200</td><td>248300</td></tr><tr><th>27</th><td>6118</td><td>Nashville</td><td>Tennessee</td><td>29</td><td>143300</td><td>140600</td><td>136200</td></tr><tr><th>28</th><td>20288</td><td>Sacramento</td><td>California</td><td>30</td><td>133700</td><td>127100</td><td>120200</td></tr><tr><th>29</th><td>5976</td><td>Milwaukee</td><td>Wisconsin</td><td>32</td><td>80600</td><td>84600</td><td>83300</td></tr><tr><th>30</th><td>40152</td><td>Omaha</td><td>Nebraska</td><td>34</td><td>127800</td><td>125100</td><td>121700</td></tr><tr><th>&vellip;</th><td>&vellip;</td><td>&vellip;</td><td>&vellip;</td><td>&vellip;</td><td>&vellip;</td><td>&vellip;</td><td>&vellip;</td></tr></tbody></table>"
      ],
      "text/latex": [
       "\\begin{tabular}{r|cccccccc}\n",
       "\t& RegionID & RegionName & StateName & SizeRank & 2011-01 & 2011-02 & 2011-03 & \\\\\n",
       "\t\\hline\n",
       "\t& Any & Any & Any & Any & Any & Any & Any & \\\\\n",
       "\t\\hline\n",
       "\t1 & 6181 & New York & New York & 1 & 460900 & 466500 & 467100 & $\\dots$ \\\\\n",
       "\t2 & 12447 & Los Angeles & California & 2 & 350300 & 352600 & 343800 & $\\dots$ \\\\\n",
       "\t3 & 39051 & Houston & Texas & 3 & 139800 & 137900 & 132900 & $\\dots$ \\\\\n",
       "\t4 & 17426 & Chicago & Illinois & 4 & 188000 & 190300 & 186800 & $\\dots$ \\\\\n",
       "\t5 & 6915 & San Antonio & Texas & 5 & 135900 & 131600 & 130600 & $\\dots$ \\\\\n",
       "\t6 & 13271 & Philadelphia & Pennsylvania & 6 & 106700 & 105600 & 109400 & $\\dots$ \\\\\n",
       "\t7 & 40326 & Phoenix & Arizona & 7 & 84200 & 82800 & 82400 & $\\dots$ \\\\\n",
       "\t8 & 18959 & Las Vegas & Nevada & 8 & 115700 & 113900 & 111200 & $\\dots$ \\\\\n",
       "\t9 & 54296 & San Diego & California & 9 & 344700 & 336100 & 331100 & $\\dots$ \\\\\n",
       "\t10 & 38128 & Dallas & Texas & 10 & 191800 & 184000 & 173600 & $\\dots$ \\\\\n",
       "\t11 & 10221 & Austin & Texas & 11 & 228400 & 221600 & 216200 & $\\dots$ \\\\\n",
       "\t12 & 33839 & San Jose & California & 12 & 443800 & 434600 & 424300 & $\\dots$ \\\\\n",
       "\t13 & 25290 & Jacksonville & Florida & 13 & 94600 & 92700 & 88300 & $\\dots$ \\\\\n",
       "\t14 & 20330 & San Francisco & California & 15 & 680100 & 655100 & 646200 & $\\dots$ \\\\\n",
       "\t15 & 24043 & Charlotte & North Carolina & 16 & 135300 & 131200 & 128800 & $\\dots$ \\\\\n",
       "\t16 & 18172 & Fort Worth & Texas & 17 & 118200 & 114800 & 111600 & $\\dots$ \\\\\n",
       "\t17 & 7481 & Tucson & Arizona & 18 & 125600 & 122900 & 119200 & $\\dots$ \\\\\n",
       "\t18 & 10920 & Columbus & Ohio & 19 & 88700 & 86000 & 79900 & $\\dots$ \\\\\n",
       "\t19 & 12455 & Louisville & Kentucky & 20 & 125700 & 124000 & 118400 & $\\dots$ \\\\\n",
       "\t20 & 13121 & Orlando & Florida & 21 & 81800 & 82500 & 85300 & $\\dots$ \\\\\n",
       "\t21 & 17933 & El Paso & Texas & 22 & 129500 & 128700 & 127100 & $\\dots$ \\\\\n",
       "\t22 & 11093 & Denver & Colorado & 23 & 200600 & 206800 & 201100 & $\\dots$ \\\\\n",
       "\t23 & 16037 & Seattle & Washington & 24 & 384700 & 385100 & 376200 & $\\dots$ \\\\\n",
       "\t24 & 32811 & Memphis & Tennessee & 25 & 61100 & 60600 & 58500 & $\\dots$ \\\\\n",
       "\t25 & 41568 & Washington & District of Columbia & 27 & 399900 & 384200 & 373700 & $\\dots$ \\\\\n",
       "\t26 & 13373 & Portland & Oregon & 28 & 265000 & 261200 & 248300 & $\\dots$ \\\\\n",
       "\t27 & 6118 & Nashville & Tennessee & 29 & 143300 & 140600 & 136200 & $\\dots$ \\\\\n",
       "\t28 & 20288 & Sacramento & California & 30 & 133700 & 127100 & 120200 & $\\dots$ \\\\\n",
       "\t29 & 5976 & Milwaukee & Wisconsin & 32 & 80600 & 84600 & 83300 & $\\dots$ \\\\\n",
       "\t30 & 40152 & Omaha & Nebraska & 34 & 127800 & 125100 & 121700 & $\\dots$ \\\\\n",
       "\t$\\dots$ & $\\dots$ & $\\dots$ & $\\dots$ & $\\dots$ & $\\dots$ & $\\dots$ & $\\dots$ &  \\\\\n",
       "\\end{tabular}\n"
      ],
      "text/plain": [
       "1625×113 DataFrame. Omitted printing of 108 columns\n",
       "│ Row  │ RegionID │ RegionName    │ StateName    │ SizeRank │ 2011-01 │\n",
       "│      │ \u001b[90mAny\u001b[39m      │ \u001b[90mAny\u001b[39m           │ \u001b[90mAny\u001b[39m          │ \u001b[90mAny\u001b[39m      │ \u001b[90mAny\u001b[39m     │\n",
       "├──────┼──────────┼───────────────┼──────────────┼──────────┼─────────┤\n",
       "│ 1    │ 6181     │ New York      │ New York     │ 1        │ 460900  │\n",
       "│ 2    │ 12447    │ Los Angeles   │ California   │ 2        │ 350300  │\n",
       "│ 3    │ 39051    │ Houston       │ Texas        │ 3        │ 139800  │\n",
       "│ 4    │ 17426    │ Chicago       │ Illinois     │ 4        │ 188000  │\n",
       "│ 5    │ 6915     │ San Antonio   │ Texas        │ 5        │ 135900  │\n",
       "│ 6    │ 13271    │ Philadelphia  │ Pennsylvania │ 6        │ 106700  │\n",
       "│ 7    │ 40326    │ Phoenix       │ Arizona      │ 7        │ 84200   │\n",
       "│ 8    │ 18959    │ Las Vegas     │ Nevada       │ 8        │ 115700  │\n",
       "│ 9    │ 54296    │ San Diego     │ California   │ 9        │ 344700  │\n",
       "│ 10   │ 38128    │ Dallas        │ Texas        │ 10       │ 191800  │\n",
       "⋮\n",
       "│ 1615 │ 36173    │ Miramar Beach │ Florida      │ 3698     │ 286100  │\n",
       "│ 1616 │ 41536    │ Waikoloa      │ Hawaii       │ 3708     │ 244400  │\n",
       "│ 1617 │ 47409    │ Roanoke       │ Texas        │ 3710     │ 128100  │\n",
       "│ 1618 │ 21021    │ Vail          │ Arizona      │ 3717     │ 204000  │\n",
       "│ 1619 │ 25643    │ Longboat Key  │ Florida      │ 3725     │ 432800  │\n",
       "│ 1620 │ 49592    │ New Hope      │ Pennsylvania │ 3732     │ 524600  │\n",
       "│ 1621 │ 48710    │ Arnold        │ California   │ 3739     │ 266700  │\n",
       "│ 1622 │ 12306    │ Langhorne     │ Pennsylvania │ 3750     │ 270800  │\n",
       "│ 1623 │ 33433    │ Pingree Grove │ Illinois     │ 3752     │ 207100  │\n",
       "│ 1624 │ 32133    │ Idyllwild     │ California   │ 3755     │ 183300  │\n",
       "│ 1625 │ 50339    │ Sea Isle City │ New Jersey   │ 3759     │ 500500  │"
      ]
     },
     "execution_count": 28,
     "metadata": {},
     "output_type": "execute_result"
    }
   ],
   "source": [
    "pricesDF = DataFrame(prices[1][colIndex], prices[2][colIndex])\n",
    "pricesData = dropmissing(pricesDF)"
   ]
  },
  {
   "cell_type": "code",
   "execution_count": 27,
   "metadata": {
    "collapsed": true
   },
   "outputs": [
    {
     "data": {
      "text/html": [
       "<table class=\"data-frame\"><thead><tr><th></th><th>RegionID</th><th>RegionName</th><th>StateName</th><th>SizeRank</th><th>2011-01</th><th>2011-02</th><th>2011-03</th></tr><tr><th></th><th>Any</th><th>Any</th><th>Any</th><th>Any</th><th>Any</th><th>Any</th><th>Any</th></tr></thead><tbody><p>16,513 rows × 113 columns (omitted printing of 106 columns)</p><tr><th>1</th><td>6181</td><td>New York</td><td>New York</td><td>1</td><td>2821</td><td>2865</td><td>3303</td></tr><tr><th>2</th><td>12447</td><td>Los Angeles</td><td>California</td><td>2</td><td>1834</td><td>1723</td><td>2391</td></tr><tr><th>3</th><td>39051</td><td>Houston</td><td>Texas</td><td>3</td><td>1960</td><td>1762</td><td>2707</td></tr><tr><th>4</th><td>17426</td><td>Chicago</td><td>Illinois</td><td>4</td><td>2111</td><td>1792</td><td>2457</td></tr><tr><th>5</th><td>6915</td><td>San Antonio</td><td>Texas</td><td>5</td><td>962</td><td>960</td><td>1372</td></tr><tr><th>6</th><td>13271</td><td>Philadelphia</td><td>Pennsylvania</td><td>6</td><td>961</td><td>981</td><td>1334</td></tr><tr><th>7</th><td>40326</td><td>Phoenix</td><td>Arizona</td><td>7</td><td>2529</td><td>2585</td><td>3558</td></tr><tr><th>8</th><td>18959</td><td>Las Vegas</td><td>Nevada</td><td>8</td><td>2358</td><td>2574</td><td>3127</td></tr><tr><th>9</th><td>54296</td><td>San Diego</td><td>California</td><td>9</td><td>876</td><td>924</td><td>1157</td></tr><tr><th>10</th><td>38128</td><td>Dallas</td><td>Texas</td><td>10</td><td>669</td><td>669</td><td>999</td></tr><tr><th>11</th><td>10221</td><td>Austin</td><td>Texas</td><td>11</td><td>598</td><td>587</td><td>876</td></tr><tr><th>12</th><td>33839</td><td>San Jose</td><td>California</td><td>12</td><td>559</td><td>588</td><td>766</td></tr><tr><th>13</th><td>25290</td><td>Jacksonville</td><td>Florida</td><td>13</td><td>826</td><td>757</td><td>808</td></tr><tr><th>14</th><td>20330</td><td>San Francisco</td><td>California</td><td>15</td><td>357</td><td>383</td><td>537</td></tr><tr><th>15</th><td>24043</td><td>Charlotte</td><td>North Carolina</td><td>16</td><td>558</td><td>575</td><td>865</td></tr><tr><th>16</th><td>18172</td><td>Fort Worth</td><td>Texas</td><td>17</td><td>555</td><td>471</td><td>893</td></tr><tr><th>17</th><td>7481</td><td>Tucson</td><td>Arizona</td><td>18</td><td>652</td><td>694</td><td>975</td></tr><tr><th>18</th><td>10920</td><td>Columbus</td><td>Ohio</td><td>19</td><td>558</td><td>513</td><td>859</td></tr><tr><th>19</th><td>12455</td><td>Louisville</td><td>Kentucky</td><td>20</td><td>591</td><td>581</td><td>805</td></tr><tr><th>20</th><td>13121</td><td>Orlando</td><td>Florida</td><td>21</td><td>988</td><td>936</td><td>1209</td></tr><tr><th>21</th><td>17933</td><td>El Paso</td><td>Texas</td><td>22</td><td>319</td><td>312</td><td>405</td></tr><tr><th>22</th><td>11093</td><td>Denver</td><td>Colorado</td><td>24</td><td>566</td><td>534</td><td>837</td></tr><tr><th>23</th><td>16037</td><td>Seattle</td><td>Washington</td><td>25</td><td>402</td><td>412</td><td>679</td></tr><tr><th>24</th><td>32811</td><td>Memphis</td><td>Tennessee</td><td>26</td><td>465</td><td>478</td><td>622</td></tr><tr><th>25</th><td>41568</td><td>Washington</td><td>District of Columbia</td><td>28</td><td>480</td><td>421</td><td>576</td></tr><tr><th>26</th><td>13373</td><td>Portland</td><td>Oregon</td><td>29</td><td>510</td><td>515</td><td>733</td></tr><tr><th>27</th><td>6118</td><td>Nashville</td><td>Tennessee</td><td>30</td><td>412</td><td>479</td><td>568</td></tr><tr><th>28</th><td>20288</td><td>Sacramento</td><td>California</td><td>31</td><td>642</td><td>622</td><td>832</td></tr><tr><th>29</th><td>5976</td><td>Milwaukee</td><td>Wisconsin</td><td>33</td><td>299</td><td>207</td><td>319</td></tr><tr><th>30</th><td>40152</td><td>Omaha</td><td>Nebraska</td><td>35</td><td>354</td><td>323</td><td>509</td></tr><tr><th>&vellip;</th><td>&vellip;</td><td>&vellip;</td><td>&vellip;</td><td>&vellip;</td><td>&vellip;</td><td>&vellip;</td><td>&vellip;</td></tr></tbody></table>"
      ],
      "text/latex": [
       "\\begin{tabular}{r|cccccccc}\n",
       "\t& RegionID & RegionName & StateName & SizeRank & 2011-01 & 2011-02 & 2011-03 & \\\\\n",
       "\t\\hline\n",
       "\t& Any & Any & Any & Any & Any & Any & Any & \\\\\n",
       "\t\\hline\n",
       "\t1 & 6181 & New York & New York & 1 & 2821 & 2865 & 3303 & $\\dots$ \\\\\n",
       "\t2 & 12447 & Los Angeles & California & 2 & 1834 & 1723 & 2391 & $\\dots$ \\\\\n",
       "\t3 & 39051 & Houston & Texas & 3 & 1960 & 1762 & 2707 & $\\dots$ \\\\\n",
       "\t4 & 17426 & Chicago & Illinois & 4 & 2111 & 1792 & 2457 & $\\dots$ \\\\\n",
       "\t5 & 6915 & San Antonio & Texas & 5 & 962 & 960 & 1372 & $\\dots$ \\\\\n",
       "\t6 & 13271 & Philadelphia & Pennsylvania & 6 & 961 & 981 & 1334 & $\\dots$ \\\\\n",
       "\t7 & 40326 & Phoenix & Arizona & 7 & 2529 & 2585 & 3558 & $\\dots$ \\\\\n",
       "\t8 & 18959 & Las Vegas & Nevada & 8 & 2358 & 2574 & 3127 & $\\dots$ \\\\\n",
       "\t9 & 54296 & San Diego & California & 9 & 876 & 924 & 1157 & $\\dots$ \\\\\n",
       "\t10 & 38128 & Dallas & Texas & 10 & 669 & 669 & 999 & $\\dots$ \\\\\n",
       "\t11 & 10221 & Austin & Texas & 11 & 598 & 587 & 876 & $\\dots$ \\\\\n",
       "\t12 & 33839 & San Jose & California & 12 & 559 & 588 & 766 & $\\dots$ \\\\\n",
       "\t13 & 25290 & Jacksonville & Florida & 13 & 826 & 757 & 808 & $\\dots$ \\\\\n",
       "\t14 & 20330 & San Francisco & California & 15 & 357 & 383 & 537 & $\\dots$ \\\\\n",
       "\t15 & 24043 & Charlotte & North Carolina & 16 & 558 & 575 & 865 & $\\dots$ \\\\\n",
       "\t16 & 18172 & Fort Worth & Texas & 17 & 555 & 471 & 893 & $\\dots$ \\\\\n",
       "\t17 & 7481 & Tucson & Arizona & 18 & 652 & 694 & 975 & $\\dots$ \\\\\n",
       "\t18 & 10920 & Columbus & Ohio & 19 & 558 & 513 & 859 & $\\dots$ \\\\\n",
       "\t19 & 12455 & Louisville & Kentucky & 20 & 591 & 581 & 805 & $\\dots$ \\\\\n",
       "\t20 & 13121 & Orlando & Florida & 21 & 988 & 936 & 1209 & $\\dots$ \\\\\n",
       "\t21 & 17933 & El Paso & Texas & 22 & 319 & 312 & 405 & $\\dots$ \\\\\n",
       "\t22 & 11093 & Denver & Colorado & 24 & 566 & 534 & 837 & $\\dots$ \\\\\n",
       "\t23 & 16037 & Seattle & Washington & 25 & 402 & 412 & 679 & $\\dots$ \\\\\n",
       "\t24 & 32811 & Memphis & Tennessee & 26 & 465 & 478 & 622 & $\\dots$ \\\\\n",
       "\t25 & 41568 & Washington & District of Columbia & 28 & 480 & 421 & 576 & $\\dots$ \\\\\n",
       "\t26 & 13373 & Portland & Oregon & 29 & 510 & 515 & 733 & $\\dots$ \\\\\n",
       "\t27 & 6118 & Nashville & Tennessee & 30 & 412 & 479 & 568 & $\\dots$ \\\\\n",
       "\t28 & 20288 & Sacramento & California & 31 & 642 & 622 & 832 & $\\dots$ \\\\\n",
       "\t29 & 5976 & Milwaukee & Wisconsin & 33 & 299 & 207 & 319 & $\\dots$ \\\\\n",
       "\t30 & 40152 & Omaha & Nebraska & 35 & 354 & 323 & 509 & $\\dots$ \\\\\n",
       "\t$\\dots$ & $\\dots$ & $\\dots$ & $\\dots$ & $\\dots$ & $\\dots$ & $\\dots$ & $\\dots$ &  \\\\\n",
       "\\end{tabular}\n"
      ],
      "text/plain": [
       "16513×113 DataFrame. Omitted printing of 109 columns\n",
       "│ Row   │ RegionID │ RegionName                   │ StateName     │ SizeRank │\n",
       "│       │ \u001b[90mAny\u001b[39m      │ \u001b[90mAny\u001b[39m                          │ \u001b[90mAny\u001b[39m           │ \u001b[90mAny\u001b[39m      │\n",
       "├───────┼──────────┼──────────────────────────────┼───────────────┼──────────┤\n",
       "│ 1     │ 6181     │ New York                     │ New York      │ 1        │\n",
       "│ 2     │ 12447    │ Los Angeles                  │ California    │ 2        │\n",
       "│ 3     │ 39051    │ Houston                      │ Texas         │ 3        │\n",
       "│ 4     │ 17426    │ Chicago                      │ Illinois      │ 4        │\n",
       "│ 5     │ 6915     │ San Antonio                  │ Texas         │ 5        │\n",
       "│ 6     │ 13271    │ Philadelphia                 │ Pennsylvania  │ 6        │\n",
       "│ 7     │ 40326    │ Phoenix                      │ Arizona       │ 7        │\n",
       "│ 8     │ 18959    │ Las Vegas                    │ Nevada        │ 8        │\n",
       "│ 9     │ 54296    │ San Diego                    │ California    │ 9        │\n",
       "│ 10    │ 38128    │ Dallas                       │ Texas         │ 10       │\n",
       "⋮\n",
       "│ 16503 │ 396051   │ Centerville                  │ Ohio          │ 28740    │\n",
       "│ 16504 │ 396567   │ Homewood Canyon-Valley Wells │ California    │ 28743    │\n",
       "│ 16505 │ 396623   │ New Providence               │ Indiana       │ 28745    │\n",
       "│ 16506 │ 396626   │ Addison (Webster Springs)    │ West Virginia │ 28746    │\n",
       "│ 16507 │ 396952   │ Barnard Plantation           │ Maine         │ 28750    │\n",
       "│ 16508 │ 398030   │ Stockbridge                  │ Wisconsin     │ 28752    │\n",
       "│ 16509 │ 398104   │ Mattamiscontis               │ Maine         │ 28753    │\n",
       "│ 16510 │ 398357   │ Chase Stream                 │ Maine         │ 28754    │\n",
       "│ 16511 │ 398716   │ Summerset                    │ South Dakota  │ 28756    │\n",
       "│ 16512 │ 399081   │ Long Pond                    │ Maine         │ 28757    │\n",
       "│ 16513 │ 760882   │ Ebeemee                      │ Maine         │ 28759    │"
      ]
     },
     "execution_count": 27,
     "metadata": {},
     "output_type": "execute_result"
    }
   ],
   "source": [
    "countsDF = DataFrame(counts[1][colIndex], counts[2][colIndex])\n",
    "countsData = dropmissing(countsDF) #So we don't have to re-read to get old data"
   ]
  },
  {
   "cell_type": "code",
   "execution_count": 36,
   "metadata": {
    "collapsed": true
   },
   "outputs": [
    {
     "ename": "InterruptException",
     "evalue": "InterruptException:",
     "output_type": "error",
     "traceback": [
      "InterruptException:",
      "",
      "Stacktrace:",
      " [1] _update_min_padding!(::Plots.Subplot{Plots.GRBackend}) at /Users/felix/.julia/packages/Plots/sbXPh/src/backends/gr.jl:799",
      " [2] gr_display(::Plots.Subplot{Plots.GRBackend}, ::Measures.Length{:mm,Float64}, ::Measures.Length{:mm,Float64}, ::Array{Float64,1}) at /Users/felix/.julia/packages/Plots/sbXPh/src/backends/gr.jl:953",
      " [3] gr_display(::Plots.Plot{Plots.GRBackend}, ::String) at /Users/felix/.julia/packages/Plots/sbXPh/src/backends/gr.jl:673",
      " [4] _show(::IOStream, ::MIME{Symbol(\"image/png\")}, ::Plots.Plot{Plots.GRBackend}) at /Users/felix/.julia/packages/Plots/sbXPh/src/backends/gr.jl:1952",
      " [5] show at /Users/felix/.julia/packages/Plots/sbXPh/src/output.jl:215 [inlined]",
      " [6] png(::Plots.Plot{Plots.GRBackend}, ::String) at /Users/felix/.julia/packages/Plots/sbXPh/src/output.jl:7",
      " [7] png(::String) at /Users/felix/.julia/packages/Plots/sbXPh/src/output.jl:10",
      " [8] top-level scope at ./In[36]:31"
     ]
    }
   ],
   "source": [
    "#Vectorize input dates\n",
    "datesInput = collect(Date(2011, 1):Dates.Month(1):Date(2020, 1))\n",
    "\n",
    "#Top N cities by population we are going to analyze\n",
    "N = 100\n",
    "\n",
    "for row = 1:N\n",
    "    #Vectorize outputs\n",
    "    countsOutput = collect(countsData[row, 5:end])\n",
    "    pricesOutput = collect(pricesData[row, 5:end])\n",
    "    \n",
    "    #Get city and state name\n",
    "    cityName = countsData[row, 2]\n",
    "    stateName = countsData[row, 3]  \n",
    "    loc = string(cityName, \", \", stateName)\n",
    "    \n",
    "    #Linear regression\n",
    "    countsFitDF = DataFrame(t = datesInput, unitsSold = countsOutput)\n",
    "    countsFit = fit(LinearModel, @formula(unitsSold ~ t), countsFitDF)\n",
    "    \n",
    "    priceFitDF = DataFrame(t = datesInput, medPrice = pricesOutput)\n",
    "    priceFit = fit(LinearModel, @formula(medPrice ~ t), priceFitDF)\n",
    "        \n",
    "    #Plot: units sold and best fit, median price and best fit\n",
    "    unitPlot = plot(datesInput, countsOutput, \n",
    "        title = loc, xlabel = \"Month\", ylabel = \"Homes Sold\", label = \"\", legend = false)\n",
    "    \n",
    "    pricePlot = scatter(datesInput, pricesOutput, \n",
    "        title = loc, xlabel = \"Month\", ylabel = \"Median Price (\\$)\", label = \"\", legend = false)\n",
    "        \n",
    "    #Merge plots\n",
    "    Plots.plot(unitPlot, pricePlot, layout = (2, 1))\n",
    "    \n",
    "    #Save plot\n",
    "    png(string(\"CityPlots/\", cityName))\n",
    "end"
   ]
  },
  {
   "cell_type": "code",
   "execution_count": null,
   "metadata": {},
   "outputs": [],
   "source": []
  }
 ],
 "metadata": {
  "kernelspec": {
   "display_name": "Julia 1.4.2",
   "language": "julia",
   "name": "julia-1.4"
  },
  "language_info": {
   "file_extension": ".jl",
   "mimetype": "application/julia",
   "name": "julia",
   "version": "1.4.2"
  }
 },
 "nbformat": 4,
 "nbformat_minor": 4
}
