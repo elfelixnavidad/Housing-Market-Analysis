{
 "cells": [
  {
   "cell_type": "code",
   "execution_count": 8,
   "metadata": {
    "collapsed": true
   },
   "outputs": [
    {
     "name": "stderr",
     "output_type": "stream",
     "text": [
      "┌ Info: Precompiling GLM [38e38edf-8417-5370-95a0-9cbb8c7f171a]\n",
      "└ @ Base loading.jl:1260\n"
     ]
    }
   ],
   "source": [
    "using DataFrames\n",
    "using CSV\n",
    "using XLSX\n",
    "using Statistics\n",
    "using Plots\n",
    "using Dates\n",
    "using GLM"
   ]
  },
  {
   "cell_type": "code",
   "execution_count": 4,
   "metadata": {
    "collapsed": true
   },
   "outputs": [
    {
     "data": {
      "text/plain": [
       "113-element Array{Int64,1}:\n",
       "   1\n",
       "   2\n",
       "   3\n",
       "   4\n",
       "  39\n",
       "  40\n",
       "  41\n",
       "  42\n",
       "  43\n",
       "  44\n",
       "  45\n",
       "  46\n",
       "  47\n",
       "   ⋮\n",
       " 136\n",
       " 137\n",
       " 138\n",
       " 139\n",
       " 140\n",
       " 141\n",
       " 142\n",
       " 143\n",
       " 144\n",
       " 145\n",
       " 146\n",
       " 147"
      ]
     },
     "execution_count": 4,
     "metadata": {},
     "output_type": "execute_result"
    }
   ],
   "source": [
    "prices = XLSX.readtable(\"data/zillow_data_download_april2020.xlsx\", \"Sales_median_price_city\", \"A:ER\")\n",
    "counts = XLSX.readtable(\"data/zillow_data_download_april2020.xlsx\", \"Sale_counts_city\", \"A:ER\")\n",
    "\n",
    "#Columns we care about\n",
    "atr = 1:4 #regionID, city, state, size atributes\n",
    "years = 39:147 #2011-2020\n",
    "colIndex = [atr; years]\n",
    "\n",
    "pricesDF = DataFrame(prices[1][colIndex], prices[2][colIndex])\n",
    "pricesData = dropmissing(pricesDF)\n",
    "\n",
    "countsDF = DataFrame(counts[1][colIndex], counts[2][colIndex])\n",
    "countsData = dropmissing(countsDF) #So we don't have to re-read to get old data"
   ]
  },
  {
   "cell_type": "code",
   "execution_count": 155,
   "metadata": {},
   "outputs": [],
   "source": [
    "#Make initial plots\n",
    "\n",
    "#Vectorize input dates\n",
    "datesInput = collect(Date(2011, 1):Dates.Month(1):Date(2020, 1))\n",
    "\n",
    "#Top N cities by population we are going to analyze\n",
    "N = 100\n",
    "\n",
    "for row = 1:N\n",
    "    #Vectorize outputs\n",
    "    countsOutput = collect(countsData[row, 5:end])\n",
    "    pricesOutput = collect(pricesData[row, 5:end])\n",
    "    \n",
    "    #Get city and state name\n",
    "    cityName = countsData[row, 2]\n",
    "    stateName = countsData[row, 3]  \n",
    "    loc = string(cityName, \", \", stateName)\n",
    "    \n",
    "    #Best fit\n",
    "    time = 1:109\n",
    "    priceFitDF = DataFrame(t = time, medPrice = pricesOutput)\n",
    "    priceFit = lm(@formula(medPrice ~ t), priceFitDF)\n",
    "    \n",
    "    slope = round(GLM.coef(priceFit)[2], digits = 3)\n",
    "    reg = predict(priceFit)   \n",
    "                \n",
    "    #Plot: units sold and best fit, median price and best fit\n",
    "    plot(datesInput, countsOutput, \n",
    "        title = loc, xlabel = \"Month\", ylabel = \"Homes Sold\", legend = false)\n",
    "    png(string(\"Plots/Homes-Sold/\", string(cityName, \"-Homes-Sold\")))\n",
    "        \n",
    "    scatter(datesInput, pricesOutput, \n",
    "        title = loc, xlabel = \"Month\", ylabel = \"Median Price (\\$)\", label = \"Zillow Data\")\n",
    "    \n",
    "    plot!(datesInput, reg, lw = 3, label = \"Lin. Reg\", legend = :bottomright, linestyle = :dash)\n",
    "    annotate!(datesInput[1], maximum(pricesOutput), Plots.text(string(\"m = \", slope), 10, :black, :left))\n",
    "    \n",
    "    png(string(\"Plots/Median-Price/\", string(cityName, \"-Median-Price\")))\n",
    "end"
   ]
  },
  {
   "cell_type": "code",
   "execution_count": null,
   "metadata": {},
   "outputs": [],
   "source": []
  }
 ],
 "metadata": {
  "kernelspec": {
   "display_name": "Julia 1.4.2",
   "language": "julia",
   "name": "julia-1.4"
  },
  "language_info": {
   "file_extension": ".jl",
   "mimetype": "application/julia",
   "name": "julia",
   "version": "1.4.2"
  }
 },
 "nbformat": 4,
 "nbformat_minor": 4
}
